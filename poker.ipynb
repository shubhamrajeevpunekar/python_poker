{
 "cells": [
  {
   "cell_type": "code",
   "execution_count": 1,
   "id": "2a06916d",
   "metadata": {},
   "outputs": [
    {
     "data": {
      "text/html": [
       "<style>.container { width:100% !important; }</style>"
      ],
      "text/plain": [
       "<IPython.core.display.HTML object>"
      ]
     },
     "metadata": {},
     "output_type": "display_data"
    }
   ],
   "source": [
    "from IPython.display import display, HTML\n",
    "display(HTML(\"<style>.container { width:100% !important; }</style>\"))"
   ]
  },
  {
   "cell_type": "code",
   "execution_count": 2,
   "id": "10dda57b",
   "metadata": {},
   "outputs": [],
   "source": [
    "from random import choice\n",
    "from cards import CardDeck, prettify, Card"
   ]
  },
  {
   "cell_type": "markdown",
   "id": "a4c20c50",
   "metadata": {},
   "source": [
    "## Choose positions by selecting random cards from shuffled deck"
   ]
  },
  {
   "cell_type": "code",
   "execution_count": 3,
   "id": "f0262b44",
   "metadata": {
    "scrolled": true
   },
   "outputs": [],
   "source": [
    "deck = CardDeck()\n",
    "deck.shuffle()\n",
    "deck.cut()\n",
    "\n",
    "p1_position_card = choice(deck)\n",
    "p2_position_card = choice(deck)"
   ]
  },
  {
   "cell_type": "code",
   "execution_count": 4,
   "id": "5e891087",
   "metadata": {
    "scrolled": false
   },
   "outputs": [
    {
     "name": "stdout",
     "output_type": "stream",
     "text": [
      "┌─────────┐\n",
      "│8        │\n",
      "│         │\n",
      "│         │\n",
      "│    ♠    │\n",
      "│         │\n",
      "│         │\n",
      "│        8│\n",
      "└─────────┘\n",
      "┌─────────┐\n",
      "│Q        │\n",
      "│         │\n",
      "│         │\n",
      "│    ♠    │\n",
      "│         │\n",
      "│         │\n",
      "│        Q│\n",
      "└─────────┘\n"
     ]
    }
   ],
   "source": [
    "print(p1_position_card.prettify())\n",
    "print(p2_position_card.prettify())"
   ]
  },
  {
   "cell_type": "markdown",
   "id": "84279f40",
   "metadata": {},
   "source": [
    "## Start the game"
   ]
  },
  {
   "cell_type": "markdown",
   "id": "0682d2b3",
   "metadata": {},
   "source": [
    "#### Shuffle and cut the cards twice and get ready to deal\n"
   ]
  },
  {
   "cell_type": "code",
   "execution_count": 5,
   "id": "1443758e",
   "metadata": {},
   "outputs": [],
   "source": [
    "deck.reset()\n",
    "deck.shuffle(100)\n",
    "deck.cut()\n",
    "dealers_deck = iter(deck)"
   ]
  },
  {
   "cell_type": "code",
   "execution_count": 6,
   "id": "f7c332cd",
   "metadata": {},
   "outputs": [
    {
     "data": {
      "text/plain": [
       "52 shuffled cards:\n",
       "\n",
       "<D,K> <D,Q> <C,4> <S,A> <D,J> <C,Q> <D,8> <D,A> <H,6> <H,9> <C,A> <H,A> <S,8>\n",
       "<C,K> <D,4> <H,8> <D,2> <H,2> <C,2> <D,6> <H,3> <H,J> <S,3> <H,7> <H,5> <C,5>\n",
       "<C,8> <D,3> <S,10> <S,2> <S,Q> <S,4> <S,5> <H,Q> <S,7> <D,5> <C,9> <C,3> <D,7>\n",
       "<S,9> <S,J> <C,J> <C,7> <C,10> <C,6> <S,6> <H,K> <S,K> <D,9> <D,10> <H,4> <H,10>"
      ]
     },
     "execution_count": 6,
     "metadata": {},
     "output_type": "execute_result"
    }
   ],
   "source": [
    "deck"
   ]
  },
  {
   "cell_type": "markdown",
   "id": "976bba79",
   "metadata": {},
   "source": [
    "#### Deal hole cards to two players"
   ]
  },
  {
   "cell_type": "code",
   "execution_count": 7,
   "id": "f0f73569",
   "metadata": {},
   "outputs": [],
   "source": [
    "p1_hole_cards = []\n",
    "p2_hole_cards = []"
   ]
  },
  {
   "cell_type": "code",
   "execution_count": 8,
   "id": "1b3b3ac1",
   "metadata": {},
   "outputs": [],
   "source": [
    "# Say p2 drew the higher card, deal his/her cards first\n",
    "p2_hole_cards.append(next(dealers_deck))\n",
    "p1_hole_cards.append(next(dealers_deck))\n",
    "p2_hole_cards.append(next(dealers_deck))\n",
    "p1_hole_cards.append(next(dealers_deck))                     "
   ]
  },
  {
   "cell_type": "code",
   "execution_count": 9,
   "id": "24b48a46",
   "metadata": {},
   "outputs": [
    {
     "name": "stdout",
     "output_type": "stream",
     "text": [
      "P1: Hole cards\n",
      "┌─────────┐ ┌─────────┐\n",
      "│Q        │ │A        │\n",
      "│         │ │         │\n",
      "│         │ │         │\n",
      "│    ♦    │ │    ♠    │\n",
      "│         │ │         │\n",
      "│         │ │         │\n",
      "│        Q│ │        A│\n",
      "└─────────┘ └─────────┘\n"
     ]
    }
   ],
   "source": [
    "print(\"P1: Hole cards\")\n",
    "print(prettify(p1_hole_cards))"
   ]
  },
  {
   "cell_type": "code",
   "execution_count": 10,
   "id": "378656ee",
   "metadata": {},
   "outputs": [
    {
     "name": "stdout",
     "output_type": "stream",
     "text": [
      "P2: Hole cards\n",
      "┌─────────┐ ┌─────────┐\n",
      "│K        │ │4        │\n",
      "│         │ │         │\n",
      "│         │ │         │\n",
      "│    ♦    │ │    ♣    │\n",
      "│         │ │         │\n",
      "│         │ │         │\n",
      "│        K│ │        4│\n",
      "└─────────┘ └─────────┘\n"
     ]
    }
   ],
   "source": [
    "print(\"P2: Hole cards\")\n",
    "print(prettify(p2_hole_cards))"
   ]
  },
  {
   "cell_type": "markdown",
   "id": "46cccbcf",
   "metadata": {},
   "source": [
    "#### Dealer sets up community cards"
   ]
  },
  {
   "cell_type": "code",
   "execution_count": 11,
   "id": "c3ee1698",
   "metadata": {},
   "outputs": [],
   "source": [
    "community_cards = []\n",
    "\n",
    "# flop\n",
    "next(dealers_deck) # burn a card\n",
    "for _ in range(3):\n",
    "    community_cards.append(next(dealers_deck))\n",
    "    \n",
    "# turn\n",
    "next(dealers_deck) # burn a card\n",
    "community_cards.append(next(dealers_deck))\n",
    "\n",
    "# river\n",
    "next(dealers_deck) # burn a card\n",
    "community_cards.append(next(dealers_deck))"
   ]
  },
  {
   "cell_type": "code",
   "execution_count": 12,
   "id": "926442d8",
   "metadata": {},
   "outputs": [
    {
     "data": {
      "text/plain": [
       "[<C,Q>, <D,8>, <D,A>, <H,9>, <H,A>]"
      ]
     },
     "execution_count": 12,
     "metadata": {},
     "output_type": "execute_result"
    }
   ],
   "source": [
    "community_cards"
   ]
  },
  {
   "cell_type": "markdown",
   "id": "6c2a07b8",
   "metadata": {},
   "source": [
    "#### First betting round (Pre-flop)"
   ]
  },
  {
   "cell_type": "code",
   "execution_count": 19,
   "id": "859f64e8",
   "metadata": {
    "collapsed": true
   },
   "outputs": [
    {
     "name": "stdout",
     "output_type": "stream",
     "text": [
      "┌─────────┐ ┌─────────┐ ┌─────────┐ ┌─────────┐ ┌─────────┐\n",
      "│░░░░░░░░░│ │░░░░░░░░░│ │░░░░░░░░░│ │░░░░░░░░░│ │░░░░░░░░░│\n",
      "│░░░░░░░░░│ │░░░░░░░░░│ │░░░░░░░░░│ │░░░░░░░░░│ │░░░░░░░░░│\n",
      "│░░░░░░░░░│ │░░░░░░░░░│ │░░░░░░░░░│ │░░░░░░░░░│ │░░░░░░░░░│\n",
      "│░░░░░░░░░│ │░░░░░░░░░│ │░░░░░░░░░│ │░░░░░░░░░│ │░░░░░░░░░│\n",
      "│░░░░░░░░░│ │░░░░░░░░░│ │░░░░░░░░░│ │░░░░░░░░░│ │░░░░░░░░░│\n",
      "│░░░░░░░░░│ │░░░░░░░░░│ │░░░░░░░░░│ │░░░░░░░░░│ │░░░░░░░░░│\n",
      "│░░░░░░░░░│ │░░░░░░░░░│ │░░░░░░░░░│ │░░░░░░░░░│ │░░░░░░░░░│\n",
      "└─────────┘ └─────────┘ └─────────┘ └─────────┘ └─────────┘\n"
     ]
    }
   ],
   "source": [
    "print(prettify([Card(\"\",\"\")]*5))"
   ]
  },
  {
   "cell_type": "code",
   "execution_count": 20,
   "id": "ca3b1e72",
   "metadata": {
    "collapsed": true
   },
   "outputs": [
    {
     "name": "stdout",
     "output_type": "stream",
     "text": [
      "P1: Hole cards\n",
      "┌─────────┐ ┌─────────┐\n",
      "│Q        │ │A        │\n",
      "│         │ │         │\n",
      "│         │ │         │\n",
      "│    ♦    │ │    ♠    │\n",
      "│         │ │         │\n",
      "│         │ │         │\n",
      "│        Q│ │        A│\n",
      "└─────────┘ └─────────┘\n"
     ]
    }
   ],
   "source": [
    "print(\"P1: Hole cards\")\n",
    "print(prettify(p1_hole_cards))"
   ]
  },
  {
   "cell_type": "code",
   "execution_count": 21,
   "id": "a63fc3f3",
   "metadata": {
    "collapsed": true
   },
   "outputs": [
    {
     "name": "stdout",
     "output_type": "stream",
     "text": [
      "P2: Hole cards\n",
      "┌─────────┐ ┌─────────┐\n",
      "│K        │ │4        │\n",
      "│         │ │         │\n",
      "│         │ │         │\n",
      "│    ♦    │ │    ♣    │\n",
      "│         │ │         │\n",
      "│         │ │         │\n",
      "│        K│ │        4│\n",
      "└─────────┘ └─────────┘\n"
     ]
    }
   ],
   "source": [
    "print(\"P2: Hole cards\")\n",
    "print(prettify(p2_hole_cards))"
   ]
  },
  {
   "cell_type": "markdown",
   "id": "d9171d69",
   "metadata": {},
   "source": [
    "#### Second betting round (The Flop)"
   ]
  },
  {
   "cell_type": "code",
   "execution_count": 23,
   "id": "ce4546e0",
   "metadata": {
    "collapsed": true
   },
   "outputs": [
    {
     "name": "stdout",
     "output_type": "stream",
     "text": [
      "┌─────────┐ ┌─────────┐ ┌─────────┐ ┌─────────┐ ┌─────────┐\n",
      "│Q        │ │8        │ │A        │ │░░░░░░░░░│ │░░░░░░░░░│\n",
      "│         │ │         │ │         │ │░░░░░░░░░│ │░░░░░░░░░│\n",
      "│         │ │         │ │         │ │░░░░░░░░░│ │░░░░░░░░░│\n",
      "│    ♣    │ │    ♦    │ │    ♦    │ │░░░░░░░░░│ │░░░░░░░░░│\n",
      "│         │ │         │ │         │ │░░░░░░░░░│ │░░░░░░░░░│\n",
      "│         │ │         │ │         │ │░░░░░░░░░│ │░░░░░░░░░│\n",
      "│        Q│ │        8│ │        A│ │░░░░░░░░░│ │░░░░░░░░░│\n",
      "└─────────┘ └─────────┘ └─────────┘ └─────────┘ └─────────┘\n"
     ]
    }
   ],
   "source": [
    "print(prettify(community_cards[:3] + [Card(\"\",\"\")]*2))"
   ]
  },
  {
   "cell_type": "code",
   "execution_count": 24,
   "id": "41be2b96",
   "metadata": {
    "collapsed": true
   },
   "outputs": [
    {
     "name": "stdout",
     "output_type": "stream",
     "text": [
      "P1: Hole cards\n",
      "┌─────────┐ ┌─────────┐\n",
      "│Q        │ │A        │\n",
      "│         │ │         │\n",
      "│         │ │         │\n",
      "│    ♦    │ │    ♠    │\n",
      "│         │ │         │\n",
      "│         │ │         │\n",
      "│        Q│ │        A│\n",
      "└─────────┘ └─────────┘\n"
     ]
    }
   ],
   "source": [
    "print(\"P1: Hole cards\")\n",
    "print(prettify(p1_hole_cards))"
   ]
  },
  {
   "cell_type": "code",
   "execution_count": 25,
   "id": "3b8abf17",
   "metadata": {
    "collapsed": true
   },
   "outputs": [
    {
     "name": "stdout",
     "output_type": "stream",
     "text": [
      "P2: Hole cards\n",
      "┌─────────┐ ┌─────────┐\n",
      "│K        │ │4        │\n",
      "│         │ │         │\n",
      "│         │ │         │\n",
      "│    ♦    │ │    ♣    │\n",
      "│         │ │         │\n",
      "│         │ │         │\n",
      "│        K│ │        4│\n",
      "└─────────┘ └─────────┘\n"
     ]
    }
   ],
   "source": [
    "print(\"P2: Hole cards\")\n",
    "print(prettify(p2_hole_cards))"
   ]
  },
  {
   "cell_type": "markdown",
   "id": "46412d37",
   "metadata": {},
   "source": [
    "#### Third betting round (The Turn)"
   ]
  },
  {
   "cell_type": "code",
   "execution_count": 27,
   "id": "9f8cd329",
   "metadata": {
    "collapsed": true
   },
   "outputs": [
    {
     "name": "stdout",
     "output_type": "stream",
     "text": [
      "┌─────────┐ ┌─────────┐ ┌─────────┐ ┌─────────┐ ┌─────────┐\n",
      "│Q        │ │8        │ │A        │ │9        │ │░░░░░░░░░│\n",
      "│         │ │         │ │         │ │         │ │░░░░░░░░░│\n",
      "│         │ │         │ │         │ │         │ │░░░░░░░░░│\n",
      "│    ♣    │ │    ♦    │ │    ♦    │ │    ♥    │ │░░░░░░░░░│\n",
      "│         │ │         │ │         │ │         │ │░░░░░░░░░│\n",
      "│         │ │         │ │         │ │         │ │░░░░░░░░░│\n",
      "│        Q│ │        8│ │        A│ │        9│ │░░░░░░░░░│\n",
      "└─────────┘ └─────────┘ └─────────┘ └─────────┘ └─────────┘\n"
     ]
    }
   ],
   "source": [
    "print(prettify(community_cards[:4] + [Card(\"\",\"\")]*1))"
   ]
  },
  {
   "cell_type": "code",
   "execution_count": 28,
   "id": "63609323",
   "metadata": {
    "collapsed": true
   },
   "outputs": [
    {
     "name": "stdout",
     "output_type": "stream",
     "text": [
      "P1: Hole cards\n",
      "┌─────────┐ ┌─────────┐\n",
      "│Q        │ │A        │\n",
      "│         │ │         │\n",
      "│         │ │         │\n",
      "│    ♦    │ │    ♠    │\n",
      "│         │ │         │\n",
      "│         │ │         │\n",
      "│        Q│ │        A│\n",
      "└─────────┘ └─────────┘\n"
     ]
    }
   ],
   "source": [
    "print(\"P1: Hole cards\")\n",
    "print(prettify(p1_hole_cards))"
   ]
  },
  {
   "cell_type": "code",
   "execution_count": 29,
   "id": "87d6099e",
   "metadata": {
    "collapsed": true
   },
   "outputs": [
    {
     "name": "stdout",
     "output_type": "stream",
     "text": [
      "P2: Hole cards\n",
      "┌─────────┐ ┌─────────┐\n",
      "│K        │ │4        │\n",
      "│         │ │         │\n",
      "│         │ │         │\n",
      "│    ♦    │ │    ♣    │\n",
      "│         │ │         │\n",
      "│         │ │         │\n",
      "│        K│ │        4│\n",
      "└─────────┘ └─────────┘\n"
     ]
    }
   ],
   "source": [
    "print(\"P2: Hole cards\")\n",
    "print(prettify(p2_hole_cards))"
   ]
  },
  {
   "cell_type": "markdown",
   "id": "14ab4125",
   "metadata": {},
   "source": [
    "#### Final betting round (The River)"
   ]
  },
  {
   "cell_type": "code",
   "execution_count": 30,
   "id": "a9d4b017",
   "metadata": {
    "collapsed": true
   },
   "outputs": [
    {
     "name": "stdout",
     "output_type": "stream",
     "text": [
      "┌─────────┐ ┌─────────┐ ┌─────────┐ ┌─────────┐ ┌─────────┐\n",
      "│Q        │ │8        │ │A        │ │9        │ │A        │\n",
      "│         │ │         │ │         │ │         │ │         │\n",
      "│         │ │         │ │         │ │         │ │         │\n",
      "│    ♣    │ │    ♦    │ │    ♦    │ │    ♥    │ │    ♥    │\n",
      "│         │ │         │ │         │ │         │ │         │\n",
      "│         │ │         │ │         │ │         │ │         │\n",
      "│        Q│ │        8│ │        A│ │        9│ │        A│\n",
      "└─────────┘ └─────────┘ └─────────┘ └─────────┘ └─────────┘\n"
     ]
    }
   ],
   "source": [
    "print(prettify(community_cards))"
   ]
  },
  {
   "cell_type": "code",
   "execution_count": 31,
   "id": "643e6526",
   "metadata": {
    "collapsed": true
   },
   "outputs": [
    {
     "name": "stdout",
     "output_type": "stream",
     "text": [
      "P1: Hole cards\n",
      "┌─────────┐ ┌─────────┐\n",
      "│Q        │ │A        │\n",
      "│         │ │         │\n",
      "│         │ │         │\n",
      "│    ♦    │ │    ♠    │\n",
      "│         │ │         │\n",
      "│         │ │         │\n",
      "│        Q│ │        A│\n",
      "└─────────┘ └─────────┘\n"
     ]
    }
   ],
   "source": [
    "print(\"P1: Hole cards\")\n",
    "print(prettify(p1_hole_cards))"
   ]
  },
  {
   "cell_type": "code",
   "execution_count": 32,
   "id": "6263edaf",
   "metadata": {
    "collapsed": true
   },
   "outputs": [
    {
     "name": "stdout",
     "output_type": "stream",
     "text": [
      "P2: Hole cards\n",
      "┌─────────┐ ┌─────────┐\n",
      "│K        │ │4        │\n",
      "│         │ │         │\n",
      "│         │ │         │\n",
      "│    ♦    │ │    ♣    │\n",
      "│         │ │         │\n",
      "│         │ │         │\n",
      "│        K│ │        4│\n",
      "└─────────┘ └─────────┘\n"
     ]
    }
   ],
   "source": [
    "print(\"P2: Hole cards\")\n",
    "print(prettify(p2_hole_cards))"
   ]
  }
 ],
 "metadata": {
  "kernelspec": {
   "display_name": "Python 3 (ipykernel)",
   "language": "python",
   "name": "python3"
  },
  "language_info": {
   "codemirror_mode": {
    "name": "ipython",
    "version": 3
   },
   "file_extension": ".py",
   "mimetype": "text/x-python",
   "name": "python",
   "nbconvert_exporter": "python",
   "pygments_lexer": "ipython3",
   "version": "3.10.6"
  }
 },
 "nbformat": 4,
 "nbformat_minor": 5
}
